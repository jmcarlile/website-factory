{
 "cells": [
  {
   "cell_type": "markdown",
   "metadata": {},
   "source": [
    "# Load Database"
   ]
  },
  {
   "cell_type": "code",
   "execution_count": 1,
   "metadata": {},
   "outputs": [],
   "source": [
    "import os\n",
    "import pandas as PD"
   ]
  },
  {
   "cell_type": "code",
   "execution_count": 2,
   "metadata": {
    "scrolled": false
   },
   "outputs": [],
   "source": [
    "import django\n",
    "MODULE_PATH = os.path.dirname(os.getcwd())\n",
    "os.chdir(os.path.dirname(MODULE_PATH))\n",
    "os.environ['DJANGO_ALLOW_ASYNC_UNSAFE'] = 'True'\n",
    "django.setup()"
   ]
  },
  {
   "cell_type": "code",
   "execution_count": 3,
   "metadata": {},
   "outputs": [
    {
     "name": "stdout",
     "output_type": "stream",
     "text": [
      "['BaseManager', 'ConvertFigureToJson', 'DeleteTable', 'GetTableCounts', 'GetTableDictionary', 'InsertBulk', 'InsertSingle']\n"
     ]
    }
   ],
   "source": [
    "import app_proj.utility as UT\n",
    "print([x for x in dir(UT) if '_' not in x and len(x) > 8])"
   ]
  },
  {
   "cell_type": "code",
   "execution_count": 4,
   "metadata": {},
   "outputs": [
    {
     "name": "stdout",
     "output_type": "stream",
     "text": [
      "['MyFunction']\n"
     ]
    }
   ],
   "source": [
    "import business_module.models as BM\n",
    "import business_module.logic.custom as CT\n",
    "DATA_PATH = os.path.join(MODULE_PATH, 'data')\n",
    "print([x for x in dir(CT) if '_' not in x and len(x) > 8])"
   ]
  },
  {
   "cell_type": "code",
   "execution_count": 5,
   "metadata": {},
   "outputs": [],
   "source": [
    "%load_ext autoreload\n",
    "%autoreload 2\n",
    "from IPython.core.interactiveshell import InteractiveShell\n",
    "InteractiveShell.ast_node_interactivity = 'all'"
   ]
  },
  {
   "cell_type": "markdown",
   "metadata": {},
   "source": [
    "### CRUD Code"
   ]
  },
  {
   "cell_type": "code",
   "execution_count": 6,
   "metadata": {
    "scrolled": false
   },
   "outputs": [
    {
     "data": {
      "text/html": [
       "<div>\n",
       "<style scoped>\n",
       "    .dataframe tbody tr th:only-of-type {\n",
       "        vertical-align: middle;\n",
       "    }\n",
       "\n",
       "    .dataframe tbody tr th {\n",
       "        vertical-align: top;\n",
       "    }\n",
       "\n",
       "    .dataframe thead th {\n",
       "        text-align: right;\n",
       "    }\n",
       "</style>\n",
       "<table border=\"1\" class=\"dataframe\">\n",
       "  <thead>\n",
       "    <tr style=\"text-align: right;\">\n",
       "      <th></th>\n",
       "      <th>Module</th>\n",
       "      <th>Table</th>\n",
       "      <th>Count</th>\n",
       "    </tr>\n",
       "  </thead>\n",
       "  <tbody>\n",
       "    <tr>\n",
       "      <th>0</th>\n",
       "      <td>business_module</td>\n",
       "      <td>LegoSet</td>\n",
       "      <td>6181</td>\n",
       "    </tr>\n",
       "  </tbody>\n",
       "</table>\n",
       "</div>"
      ],
      "text/plain": [
       "            Module    Table  Count\n",
       "0  business_module  LegoSet   6181"
      ]
     },
     "execution_count": 6,
     "metadata": {},
     "output_type": "execute_result"
    }
   ],
   "source": [
    "infoLs = UT.GetTableCounts()\n",
    "PD.DataFrame(infoLs)"
   ]
  },
  {
   "cell_type": "code",
   "execution_count": 7,
   "metadata": {
    "scrolled": true
   },
   "outputs": [
    {
     "data": {
      "text/html": [
       "<div>\n",
       "<style scoped>\n",
       "    .dataframe tbody tr th:only-of-type {\n",
       "        vertical-align: middle;\n",
       "    }\n",
       "\n",
       "    .dataframe tbody tr th {\n",
       "        vertical-align: top;\n",
       "    }\n",
       "\n",
       "    .dataframe thead th {\n",
       "        text-align: right;\n",
       "    }\n",
       "</style>\n",
       "<table border=\"1\" class=\"dataframe\">\n",
       "  <thead>\n",
       "    <tr style=\"text-align: right;\">\n",
       "      <th></th>\n",
       "      <th>set_no</th>\n",
       "      <th>name</th>\n",
       "      <th>price_store</th>\n",
       "      <th>price_new</th>\n",
       "      <th>price_used</th>\n",
       "      <th>rating_value</th>\n",
       "      <th>rating_votes</th>\n",
       "      <th>theme_group</th>\n",
       "      <th>theme</th>\n",
       "      <th>subtheme</th>\n",
       "      <th>main_tag</th>\n",
       "      <th>year</th>\n",
       "      <th>volume</th>\n",
       "      <th>weight</th>\n",
       "      <th>piece_cnt</th>\n",
       "      <th>minifig_cnt</th>\n",
       "    </tr>\n",
       "  </thead>\n",
       "  <tbody>\n",
       "    <tr>\n",
       "      <th>20</th>\n",
       "      <td>6627-1</td>\n",
       "      <td>Convertible</td>\n",
       "      <td>NaN</td>\n",
       "      <td>88.0</td>\n",
       "      <td>6.0</td>\n",
       "      <td>5.0</td>\n",
       "      <td>7.0</td>\n",
       "      <td>Modern day</td>\n",
       "      <td>Town</td>\n",
       "      <td>Vehicles</td>\n",
       "      <td>NaN</td>\n",
       "      <td>1980.0</td>\n",
       "      <td>NaN</td>\n",
       "      <td>NaN</td>\n",
       "      <td>37.0</td>\n",
       "      <td>1.0</td>\n",
       "    </tr>\n",
       "    <tr>\n",
       "      <th>21</th>\n",
       "      <td>6647-1</td>\n",
       "      <td>Highway Repair</td>\n",
       "      <td>NaN</td>\n",
       "      <td>167.0</td>\n",
       "      <td>6.0</td>\n",
       "      <td>4.0</td>\n",
       "      <td>1.0</td>\n",
       "      <td>Modern day</td>\n",
       "      <td>Town</td>\n",
       "      <td>Maintenance</td>\n",
       "      <td>NaN</td>\n",
       "      <td>1980.0</td>\n",
       "      <td>NaN</td>\n",
       "      <td>NaN</td>\n",
       "      <td>55.0</td>\n",
       "      <td>1.0</td>\n",
       "    </tr>\n",
       "    <tr>\n",
       "      <th>22</th>\n",
       "      <td>6648-2</td>\n",
       "      <td>Dump Truck</td>\n",
       "      <td>NaN</td>\n",
       "      <td>149.0</td>\n",
       "      <td>7.0</td>\n",
       "      <td>4.0</td>\n",
       "      <td>2.0</td>\n",
       "      <td>Modern day</td>\n",
       "      <td>Town</td>\n",
       "      <td>Construction</td>\n",
       "      <td>NaN</td>\n",
       "      <td>1980.0</td>\n",
       "      <td>NaN</td>\n",
       "      <td>NaN</td>\n",
       "      <td>42.0</td>\n",
       "      <td>1.0</td>\n",
       "    </tr>\n",
       "  </tbody>\n",
       "</table>\n",
       "</div>"
      ],
      "text/plain": [
       "    set_no            name  price_store  price_new  price_used  rating_value  \\\n",
       "20  6627-1     Convertible          NaN       88.0         6.0           5.0   \n",
       "21  6647-1  Highway Repair          NaN      167.0         6.0           4.0   \n",
       "22  6648-2      Dump Truck          NaN      149.0         7.0           4.0   \n",
       "\n",
       "    rating_votes theme_group theme      subtheme  main_tag    year  volume  \\\n",
       "20           7.0  Modern day  Town      Vehicles       NaN  1980.0     NaN   \n",
       "21           1.0  Modern day  Town   Maintenance       NaN  1980.0     NaN   \n",
       "22           2.0  Modern day  Town  Construction       NaN  1980.0     NaN   \n",
       "\n",
       "    weight  piece_cnt  minifig_cnt  \n",
       "20     NaN       37.0          1.0  \n",
       "21     NaN       55.0          1.0  \n",
       "22     NaN       42.0          1.0  "
      ]
     },
     "execution_count": 7,
     "metadata": {},
     "output_type": "execute_result"
    },
    {
     "data": {
      "text/plain": [
       "(6181, 16)"
      ]
     },
     "execution_count": 7,
     "metadata": {},
     "output_type": "execute_result"
    }
   ],
   "source": [
    "# get data from CSV\n",
    "\n",
    "setsPath = os.path.join(DATA_PATH, 'brickset_set_filter.csv')\n",
    "setsDf = PD.read_csv(setsPath)\n",
    "setsDf[20:23]\n",
    "setsDf.shape"
   ]
  },
  {
   "cell_type": "code",
   "execution_count": 8,
   "metadata": {},
   "outputs": [
    {
     "name": "stdout",
     "output_type": "stream",
     "text": [
      "<class 'pandas.core.frame.DataFrame'>\n",
      "RangeIndex: 6181 entries, 0 to 6180\n",
      "Data columns (total 11 columns):\n",
      " #   Column        Non-Null Count  Dtype  \n",
      "---  ------        --------------  -----  \n",
      " 0   SetNo         6181 non-null   object \n",
      " 1   Name          6181 non-null   object \n",
      " 2   PriceStore    4767 non-null   float64\n",
      " 3   PriceNew      5780 non-null   float64\n",
      " 4   PriceUsed     5489 non-null   float64\n",
      " 5   ThemeGroup    6181 non-null   object \n",
      " 6   Theme         6181 non-null   object \n",
      " 7   Subtheme      4494 non-null   object \n",
      " 8   Year          6181 non-null   float64\n",
      " 9   PieceCount    6137 non-null   float64\n",
      " 10  MinifigCount  6181 non-null   float64\n",
      "dtypes: float64(6), object(5)\n",
      "memory usage: 531.3+ KB\n"
     ]
    }
   ],
   "source": [
    "setsDf = setsDf.rename({'set_no': 'SetNo', 'name': 'Name', 'year': 'Year',\n",
    "                        'theme_group': 'ThemeGroup', 'theme': 'Theme', 'subtheme': 'Subtheme',\n",
    "                        'price_store': 'PriceStore', 'price_new': 'PriceNew', 'price_used': 'PriceUsed',\n",
    "                        'piece_cnt': 'PieceCount', 'minifig_cnt': 'MinifigCount'\n",
    "                       }, axis='columns')\n",
    "setsDf = setsDf.drop(['rating_value', 'rating_votes', 'main_tag', 'volume', 'weight'], axis=1, errors='ignore')\n",
    "setsDf.info()"
   ]
  },
  {
   "cell_type": "code",
   "execution_count": 9,
   "metadata": {},
   "outputs": [
    {
     "name": "stdout",
     "output_type": "stream",
     "text": [
      "6181\n"
     ]
    }
   ],
   "source": [
    "setsLs = setsDf.to_dict('records')\n",
    "print(len(setsLs))"
   ]
  },
  {
   "cell_type": "code",
   "execution_count": 10,
   "metadata": {},
   "outputs": [
    {
     "name": "stdout",
     "output_type": "stream",
     "text": [
      "bulk inserted\n"
     ]
    },
    {
     "data": {
      "text/html": [
       "<div>\n",
       "<style scoped>\n",
       "    .dataframe tbody tr th:only-of-type {\n",
       "        vertical-align: middle;\n",
       "    }\n",
       "\n",
       "    .dataframe tbody tr th {\n",
       "        vertical-align: top;\n",
       "    }\n",
       "\n",
       "    .dataframe thead th {\n",
       "        text-align: right;\n",
       "    }\n",
       "</style>\n",
       "<table border=\"1\" class=\"dataframe\">\n",
       "  <thead>\n",
       "    <tr style=\"text-align: right;\">\n",
       "      <th></th>\n",
       "      <th>Module</th>\n",
       "      <th>Table</th>\n",
       "      <th>Count</th>\n",
       "    </tr>\n",
       "  </thead>\n",
       "  <tbody>\n",
       "    <tr>\n",
       "      <th>0</th>\n",
       "      <td>business_module</td>\n",
       "      <td>LegoSet</td>\n",
       "      <td>6181</td>\n",
       "    </tr>\n",
       "  </tbody>\n",
       "</table>\n",
       "</div>"
      ],
      "text/plain": [
       "            Module    Table  Count\n",
       "0  business_module  LegoSet   6181"
      ]
     },
     "execution_count": 10,
     "metadata": {},
     "output_type": "execute_result"
    }
   ],
   "source": [
    "# insert in bulk\n",
    "\n",
    "UT.InsertBulk('business_module', 'LegoSet', setsLs)\n",
    "\n",
    "infoLs = UT.GetTableCounts()\n",
    "PD.DataFrame(infoLs)"
   ]
  },
  {
   "cell_type": "code",
   "execution_count": 11,
   "metadata": {},
   "outputs": [
    {
     "data": {
      "text/html": [
       "<div>\n",
       "<style scoped>\n",
       "    .dataframe tbody tr th:only-of-type {\n",
       "        vertical-align: middle;\n",
       "    }\n",
       "\n",
       "    .dataframe tbody tr th {\n",
       "        vertical-align: top;\n",
       "    }\n",
       "\n",
       "    .dataframe thead th {\n",
       "        text-align: right;\n",
       "    }\n",
       "</style>\n",
       "<table border=\"1\" class=\"dataframe\">\n",
       "  <thead>\n",
       "    <tr style=\"text-align: right;\">\n",
       "      <th></th>\n",
       "      <th>id</th>\n",
       "      <th>SetNo</th>\n",
       "      <th>Name</th>\n",
       "      <th>Year</th>\n",
       "      <th>ThemeGroup</th>\n",
       "      <th>Theme</th>\n",
       "      <th>Subtheme</th>\n",
       "      <th>PriceStore</th>\n",
       "      <th>PriceNew</th>\n",
       "      <th>PriceUsed</th>\n",
       "      <th>PieceCount</th>\n",
       "      <th>MinifigCount</th>\n",
       "    </tr>\n",
       "  </thead>\n",
       "  <tbody>\n",
       "    <tr>\n",
       "      <th>20</th>\n",
       "      <td>74195</td>\n",
       "      <td>6627-1</td>\n",
       "      <td>Convertible</td>\n",
       "      <td>1980</td>\n",
       "      <td>Modern day</td>\n",
       "      <td>Town</td>\n",
       "      <td>Vehicles</td>\n",
       "      <td>NaN</td>\n",
       "      <td>88.0</td>\n",
       "      <td>6.0</td>\n",
       "      <td>37.0</td>\n",
       "      <td>1</td>\n",
       "    </tr>\n",
       "    <tr>\n",
       "      <th>21</th>\n",
       "      <td>74196</td>\n",
       "      <td>6647-1</td>\n",
       "      <td>Highway Repair</td>\n",
       "      <td>1980</td>\n",
       "      <td>Modern day</td>\n",
       "      <td>Town</td>\n",
       "      <td>Maintenance</td>\n",
       "      <td>NaN</td>\n",
       "      <td>167.0</td>\n",
       "      <td>6.0</td>\n",
       "      <td>55.0</td>\n",
       "      <td>1</td>\n",
       "    </tr>\n",
       "    <tr>\n",
       "      <th>22</th>\n",
       "      <td>74197</td>\n",
       "      <td>6648-2</td>\n",
       "      <td>Dump Truck</td>\n",
       "      <td>1980</td>\n",
       "      <td>Modern day</td>\n",
       "      <td>Town</td>\n",
       "      <td>Construction</td>\n",
       "      <td>NaN</td>\n",
       "      <td>149.0</td>\n",
       "      <td>7.0</td>\n",
       "      <td>42.0</td>\n",
       "      <td>1</td>\n",
       "    </tr>\n",
       "  </tbody>\n",
       "</table>\n",
       "</div>"
      ],
      "text/plain": [
       "       id   SetNo            Name  Year  ThemeGroup Theme      Subtheme  \\\n",
       "20  74195  6627-1     Convertible  1980  Modern day  Town      Vehicles   \n",
       "21  74196  6647-1  Highway Repair  1980  Modern day  Town   Maintenance   \n",
       "22  74197  6648-2      Dump Truck  1980  Modern day  Town  Construction   \n",
       "\n",
       "    PriceStore  PriceNew  PriceUsed  PieceCount  MinifigCount  \n",
       "20         NaN      88.0        6.0        37.0             1  \n",
       "21         NaN     167.0        6.0        55.0             1  \n",
       "22         NaN     149.0        7.0        42.0             1  "
      ]
     },
     "execution_count": 11,
     "metadata": {},
     "output_type": "execute_result"
    }
   ],
   "source": [
    "# select entire table\n",
    "\n",
    "tableLs = UT.GetTableDictionary('business_module', 'LegoSet')\n",
    "PD.DataFrame(tableLs)[20:23]"
   ]
  },
  {
   "cell_type": "code",
   "execution_count": 13,
   "metadata": {},
   "outputs": [
    {
     "data": {
      "text/plain": [
       "{'_state': <django.db.models.base.ModelState at 0x240fcf0c910>,\n",
       " 'id': 74195,\n",
       " 'SetNo': '6627-1',\n",
       " 'Name': 'Convertible',\n",
       " 'Year': 1980,\n",
       " 'ThemeGroup': 'Modern day',\n",
       " 'Theme': 'Town',\n",
       " 'Subtheme': 'Vehicles',\n",
       " 'PriceStore': None,\n",
       " 'PriceNew': 88.0,\n",
       " 'PriceUsed': 6.0,\n",
       " 'PieceCount': 37,\n",
       " 'MinifigCount': 1}"
      ]
     },
     "execution_count": 13,
     "metadata": {},
     "output_type": "execute_result"
    }
   ],
   "source": [
    "# select one row by parameters\n",
    "\n",
    "paramDx = {'SetNo': '6627-1'}\n",
    "rowDx = UT.GetRow('business_module', 'LegoSet', paramDx)\n",
    "rowDx"
   ]
  },
  {
   "cell_type": "code",
   "execution_count": 14,
   "metadata": {},
   "outputs": [
    {
     "data": {
      "text/plain": [
       "{}"
      ]
     },
     "execution_count": 14,
     "metadata": {},
     "output_type": "execute_result"
    }
   ],
   "source": [
    "# select when row doesn't exist\n",
    "\n",
    "paramDx = {'SetNo': '6627-2'}\n",
    "rowDx = UT.GetRow('business_module', 'LegoSet', paramDx)\n",
    "rowDx"
   ]
  },
  {
   "cell_type": "code",
   "execution_count": 15,
   "metadata": {},
   "outputs": [],
   "source": [
    "# delete all rows\n",
    "\n",
    "# UT.DeleteTable('business_module', 'LegoSet')\n",
    "\n",
    "# infoLs = UT.GetTableCounts()\n",
    "# PD.DataFrame(infoLs)"
   ]
  },
  {
   "cell_type": "code",
   "execution_count": null,
   "metadata": {},
   "outputs": [],
   "source": []
  }
 ],
 "metadata": {
  "kernelspec": {
   "display_name": "Python 3 (ipykernel)",
   "language": "python",
   "name": "python3"
  },
  "language_info": {
   "codemirror_mode": {
    "name": "ipython",
    "version": 3
   },
   "file_extension": ".py",
   "mimetype": "text/x-python",
   "name": "python",
   "nbconvert_exporter": "python",
   "pygments_lexer": "ipython3",
   "version": "3.8.2"
  }
 },
 "nbformat": 4,
 "nbformat_minor": 4
}
